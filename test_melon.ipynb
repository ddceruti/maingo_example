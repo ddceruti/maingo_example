{
 "cells": [
  {
   "cell_type": "markdown",
   "id": "a80e7fb5",
   "metadata": {},
   "source": [
    "# Example ANN generation and training\n",
    "\n",
    "From melon doc (https://git.rwth-aachen.de/avt-svt/public/MeLOn/-/blob/master/feedforward%20neural%20network/training/keras/example_training_of_ANN.py) and the ANN paper (https://link.springer.com/content/pdf/10.1007/s10957-018-1396-0.pdf)."
   ]
  },
  {
   "cell_type": "code",
   "execution_count": 1,
   "id": "3ace0207",
   "metadata": {},
   "outputs": [],
   "source": [
    "import utils\n",
    "import tensorflow as tf\n",
    "import numpy as np\n",
    "import time\n",
    "from sklearn.model_selection import train_test_split\n",
    "import matplotlib.pyplot as plt\n",
    "from pyDOE import lhs\n",
    "import maingopy"
   ]
  },
  {
   "cell_type": "markdown",
   "id": "a90d932c",
   "metadata": {},
   "source": [
    "Implement peaks function"
   ]
  },
  {
   "cell_type": "code",
   "execution_count": 2,
   "id": "971eea61",
   "metadata": {},
   "outputs": [],
   "source": [
    "def peaks(X):\n",
    "    term1 = 3*np.multiply((1-X[:,0])**2, np.exp(-(X[:,0])**2-(X[:,1]+1)**2))\n",
    "    term2 = np.multiply(-10*(X[:,0]/5-X[:,0]**3-X[:,1]**5), np.exp(-X[:,0]**2-X[:,1]**2))\n",
    "    term3 = -np.exp(-(X[:,0]+1)**2-X[:,1]**2)/3\n",
    "    y = term1 + term2 + term3\n",
    "    return np.expand_dims(y, axis=-1)"
   ]
  },
  {
   "cell_type": "code",
   "execution_count": 3,
   "id": "6cd87cec",
   "metadata": {},
   "outputs": [
    {
     "data": {
      "text/plain": [
       "array([[-6.55112995],\n",
       "       [ 0.37537558]])"
      ]
     },
     "execution_count": 3,
     "metadata": {},
     "output_type": "execute_result"
    }
   ],
   "source": [
    "# test global minimum at f(0.228, -1.626)=-6.551\n",
    "peaks(np.array([[0.228, -1.626], [0.5,0.5]]))"
   ]
  },
  {
   "cell_type": "markdown",
   "id": "ce6c713a",
   "metadata": {},
   "source": [
    "## Training data generation\n",
    "\n",
    "Generate 500 samples with latin hypercube sampling, rescale to [-3, 3] and evaluate."
   ]
  },
  {
   "cell_type": "code",
   "execution_count": 4,
   "id": "7439d00b",
   "metadata": {},
   "outputs": [],
   "source": [
    "lhd = lhs(2, samples=500)\n",
    "Xpeaks = lhd*6-3\n",
    "ypeaks = peaks(Xpeaks)"
   ]
  },
  {
   "cell_type": "markdown",
   "id": "79dd4d16",
   "metadata": {},
   "source": [
    "## Load and set parameters"
   ]
  },
  {
   "cell_type": "code",
   "execution_count": 5,
   "id": "a1d3211b",
   "metadata": {},
   "outputs": [],
   "source": [
    "problem_name = 'peaks'\n",
    "# dimensionality of the data\n",
    "input_dim = 2\n",
    "output_dim = 1\n",
    "# scale Input to [-1,1] range\n",
    "scaleInput = True\n",
    "# normalize Output to z-score\n",
    "normalizeOutput = True"
   ]
  },
  {
   "cell_type": "markdown",
   "id": "2fa483e8",
   "metadata": {},
   "source": [
    "define scale and normalize (from melon keras utils)"
   ]
  },
  {
   "cell_type": "code",
   "execution_count": 6,
   "id": "0023b053",
   "metadata": {},
   "outputs": [],
   "source": [
    "def scale(X, scaleInput):\n",
    "    # scale Input values to range [-1,1] in each dimension\n",
    "    if (scaleInput):\n",
    "        nom = (X -  X.min(axis=0))*2\n",
    "        denom = X.max(axis=0) - X.min(axis=0)\n",
    "        denom[denom==0] = 1\n",
    "        return -1 + nom/denom\n",
    "    else:\n",
    "        return X\n",
    "\n",
    "def normalize(y, normalizeOutput):\n",
    "    # normalize output to z-score\n",
    "    if(normalizeOutput):\n",
    "        y_norm = (y - np.mean(y, axis=0))/np.std(y, axis=0);\n",
    "        return y_norm\n",
    "    else:\n",
    "        return y"
   ]
  },
  {
   "cell_type": "code",
   "execution_count": 7,
   "id": "a0a9d527",
   "metadata": {},
   "outputs": [],
   "source": [
    "Xnorm = scale(Xpeaks, scaleInput)\n",
    "ynorm = normalize(ypeaks, normalizeOutput)"
   ]
  },
  {
   "cell_type": "code",
   "execution_count": 8,
   "id": "a60f5f06",
   "metadata": {},
   "outputs": [
    {
     "data": {
      "text/plain": [
       "array([[ 0.68264434, -0.45266058],\n",
       "       [ 0.41421254,  0.53286959],\n",
       "       [-0.32096386,  0.50111832],\n",
       "       [ 0.50415506, -0.39945561],\n",
       "       [-0.09953701, -0.15223545],\n",
       "       [-0.0769091 ,  0.39198408],\n",
       "       [-0.1509948 , -0.96712359],\n",
       "       [-0.37035238, -0.15874331],\n",
       "       [-0.56543572,  0.19850618],\n",
       "       [-0.43792274,  0.45267064]])"
      ]
     },
     "execution_count": 8,
     "metadata": {},
     "output_type": "execute_result"
    }
   ],
   "source": [
    "Xnorm[:10,:]"
   ]
  },
  {
   "cell_type": "code",
   "execution_count": 9,
   "id": "7ca326bd",
   "metadata": {},
   "outputs": [],
   "source": [
    "# split into test, validation and test sets (70-15-15% split)\n",
    "Xtrain, Xval, ytrain, yval = train_test_split(Xnorm, ynorm, test_size=0.15)\n",
    "n_train = Xtrain.shape[0]"
   ]
  },
  {
   "cell_type": "markdown",
   "id": "7df241dc",
   "metadata": {},
   "source": [
    "## Set output parameters"
   ]
  },
  {
   "cell_type": "code",
   "execution_count": 29,
   "id": "fa061dd6",
   "metadata": {},
   "outputs": [],
   "source": [
    "# output filename\n",
    "output_folder = \"./data/Output/\"\n",
    "filename_out = output_folder + problem_name\n",
    "# training parameters\n",
    "network_layout = [10, 10]\n",
    "activation_function = 'relu'\n",
    "activation_function_out = 'linear'\n",
    "learning_rate = 0.001\n",
    "kernel_regularizer = tf.keras.regularizers.l2(l=0.001)  # L2 regularization penalty\n",
    "# 'he_normal' for relu activation, 'glorot_uniform' for everything else\n",
    "kernel_initializer = 'he_normal'\n",
    "# It draws samples from a truncated normal distribution centered on 0 with stddev = sqrt(2 / fan_in) where fan_in is the number of input units in the weight tensor.\n",
    "optimizer = 'adam'\n",
    "epochs = 100\n",
    "batch_size = 128\n",
    "random_state = 1"
   ]
  },
  {
   "cell_type": "markdown",
   "id": "9289ac5b",
   "metadata": {},
   "source": [
    "## Build model\n",
    "\n",
    "with the inputs defined above:\n",
    "\n",
    "keras.sequential: a plain stack of layers where each layer has exactly one input tensor and one output tensor.\n"
   ]
  },
  {
   "cell_type": "code",
   "execution_count": 30,
   "id": "7a5c6881",
   "metadata": {},
   "outputs": [
    {
     "name": "stdout",
     "output_type": "stream",
     "text": [
      "Model: \"sequential_1\"\n",
      "_________________________________________________________________\n",
      "Layer (type)                 Output Shape              Param #   \n",
      "=================================================================\n",
      "input (Dense)                (None, 10)                30        \n",
      "_________________________________________________________________\n",
      "dense_1 (Dense)              (None, 10)                110       \n",
      "_________________________________________________________________\n",
      "output (Dense)               (None, 1)                 11        \n",
      "=================================================================\n",
      "Total params: 151\n",
      "Trainable params: 151\n",
      "Non-trainable params: 0\n",
      "_________________________________________________________________\n"
     ]
    }
   ],
   "source": [
    "# Sequential class: Linear stack of layers.\n",
    "model = tf.keras.Sequential()\n",
    "# Create and add first layer\n",
    "model.add(tf.keras.layers.Dense(network_layout[0],\n",
    "                                name=\"input\",\n",
    "                                kernel_initializer=kernel_initializer,\n",
    "                                kernel_regularizer=kernel_regularizer,\n",
    "                                activation=activation_function,\n",
    "                                input_dim=input_dim))\n",
    "# Create and add all remaining layers (in this case, 9x9 layout)\n",
    "for neuron in network_layout[1:]:\n",
    "    model.add(tf.keras.layers.Dense(neuron,\n",
    "                                    kernel_initializer=kernel_initializer,\n",
    "                                    kernel_regularizer=kernel_regularizer,\n",
    "                                    activation=activation_function))\n",
    "# Output layer w linear function\n",
    "model.add(tf.keras.layers.Dense(output_dim, name=\"output\",\n",
    "                                kernel_initializer='glorot_uniform',\n",
    "                                kernel_regularizer=kernel_regularizer,\n",
    "                                activation=activation_function_out))\n",
    "\n",
    "model.compile(loss='mse', optimizer=optimizer, metrics=['mse', 'mae'])\n",
    "# Generate a table summarizing the model\n",
    "model.summary()"
   ]
  },
  {
   "cell_type": "markdown",
   "id": "009a904b",
   "metadata": {},
   "source": [
    "## Train with adam\n",
    "\n",
    "First-order gradient-based optimization of stochastic objective functions (https://arxiv.org/abs/1412.6980)"
   ]
  },
  {
   "cell_type": "code",
   "execution_count": 31,
   "id": "50507067",
   "metadata": {},
   "outputs": [
    {
     "name": "stdout",
     "output_type": "stream",
     "text": [
      "Epoch 1/100\n",
      "4/4 [==============================] - 0s 30ms/step - loss: 2.5609 - mse: 2.5229 - mae: 1.2541 - val_loss: 2.7240 - val_mse: 2.6861 - val_mae: 1.2352\n",
      "Epoch 2/100\n",
      "4/4 [==============================] - 0s 4ms/step - loss: 2.4598 - mse: 2.4220 - mae: 1.2210 - val_loss: 2.6099 - val_mse: 2.5722 - val_mae: 1.1975\n",
      "Epoch 3/100\n",
      "4/4 [==============================] - 0s 4ms/step - loss: 2.3609 - mse: 2.3233 - mae: 1.1867 - val_loss: 2.5022 - val_mse: 2.4647 - val_mae: 1.1605\n",
      "Epoch 4/100\n",
      "4/4 [==============================] - 0s 4ms/step - loss: 2.2688 - mse: 2.2313 - mae: 1.1542 - val_loss: 2.4010 - val_mse: 2.3637 - val_mae: 1.1253\n",
      "Epoch 5/100\n",
      "4/4 [==============================] - 0s 4ms/step - loss: 2.1832 - mse: 2.1459 - mae: 1.1237 - val_loss: 2.3055 - val_mse: 2.2684 - val_mae: 1.0919\n",
      "Epoch 6/100\n",
      "4/4 [==============================] - 0s 4ms/step - loss: 2.1006 - mse: 2.0635 - mae: 1.0939 - val_loss: 2.2172 - val_mse: 2.1802 - val_mae: 1.0590\n",
      "Epoch 7/100\n",
      "4/4 [==============================] - 0s 4ms/step - loss: 2.0228 - mse: 1.9859 - mae: 1.0636 - val_loss: 2.1326 - val_mse: 2.0957 - val_mae: 1.0271\n",
      "Epoch 8/100\n",
      "4/4 [==============================] - 0s 4ms/step - loss: 1.9496 - mse: 1.9128 - mae: 1.0349 - val_loss: 2.0525 - val_mse: 2.0158 - val_mae: 0.9953\n",
      "Epoch 9/100\n",
      "4/4 [==============================] - 0s 4ms/step - loss: 1.8779 - mse: 1.8413 - mae: 1.0053 - val_loss: 1.9788 - val_mse: 1.9422 - val_mae: 0.9634\n",
      "Epoch 10/100\n",
      "4/4 [==============================] - 0s 4ms/step - loss: 1.8125 - mse: 1.7760 - mae: 0.9769 - val_loss: 1.9093 - val_mse: 1.8729 - val_mae: 0.9334\n",
      "Epoch 11/100\n",
      "4/4 [==============================] - 0s 3ms/step - loss: 1.7539 - mse: 1.7176 - mae: 0.9529 - val_loss: 1.8450 - val_mse: 1.8088 - val_mae: 0.9078\n",
      "Epoch 12/100\n",
      "4/4 [==============================] - 0s 4ms/step - loss: 1.6961 - mse: 1.6599 - mae: 0.9322 - val_loss: 1.7873 - val_mse: 1.7512 - val_mae: 0.8897\n",
      "Epoch 13/100\n",
      "4/4 [==============================] - 0s 4ms/step - loss: 1.6431 - mse: 1.6070 - mae: 0.9157 - val_loss: 1.7329 - val_mse: 1.6969 - val_mae: 0.8768\n",
      "Epoch 14/100\n",
      "4/4 [==============================] - 0s 4ms/step - loss: 1.5967 - mse: 1.5607 - mae: 0.9012 - val_loss: 1.6814 - val_mse: 1.6455 - val_mae: 0.8651\n",
      "Epoch 15/100\n",
      "4/4 [==============================] - 0s 4ms/step - loss: 1.5504 - mse: 1.5145 - mae: 0.8876 - val_loss: 1.6340 - val_mse: 1.5982 - val_mae: 0.8552\n",
      "Epoch 16/100\n",
      "4/4 [==============================] - 0s 4ms/step - loss: 1.5100 - mse: 1.4742 - mae: 0.8749 - val_loss: 1.5905 - val_mse: 1.5549 - val_mae: 0.8461\n",
      "Epoch 17/100\n",
      "4/4 [==============================] - 0s 4ms/step - loss: 1.4696 - mse: 1.4339 - mae: 0.8626 - val_loss: 1.5501 - val_mse: 1.5145 - val_mae: 0.8387\n",
      "Epoch 18/100\n",
      "4/4 [==============================] - 0s 4ms/step - loss: 1.4348 - mse: 1.3992 - mae: 0.8524 - val_loss: 1.5107 - val_mse: 1.4752 - val_mae: 0.8308\n",
      "Epoch 19/100\n",
      "4/4 [==============================] - 0s 4ms/step - loss: 1.4000 - mse: 1.3646 - mae: 0.8415 - val_loss: 1.4735 - val_mse: 1.4381 - val_mae: 0.8230\n",
      "Epoch 20/100\n",
      "4/4 [==============================] - 0s 4ms/step - loss: 1.3682 - mse: 1.3329 - mae: 0.8321 - val_loss: 1.4386 - val_mse: 1.4034 - val_mae: 0.8149\n",
      "Epoch 21/100\n",
      "4/4 [==============================] - 0s 4ms/step - loss: 1.3384 - mse: 1.3032 - mae: 0.8231 - val_loss: 1.4058 - val_mse: 1.3706 - val_mae: 0.8071\n",
      "Epoch 22/100\n",
      "4/4 [==============================] - 0s 4ms/step - loss: 1.3104 - mse: 1.2753 - mae: 0.8149 - val_loss: 1.3756 - val_mse: 1.3406 - val_mae: 0.7990\n",
      "Epoch 23/100\n",
      "4/4 [==============================] - 0s 4ms/step - loss: 1.2831 - mse: 1.2482 - mae: 0.8063 - val_loss: 1.3478 - val_mse: 1.3129 - val_mae: 0.7907\n",
      "Epoch 24/100\n",
      "4/4 [==============================] - 0s 4ms/step - loss: 1.2582 - mse: 1.2234 - mae: 0.7978 - val_loss: 1.3210 - val_mse: 1.2862 - val_mae: 0.7827\n",
      "Epoch 25/100\n",
      "4/4 [==============================] - 0s 4ms/step - loss: 1.2355 - mse: 1.2007 - mae: 0.7901 - val_loss: 1.2952 - val_mse: 1.2605 - val_mae: 0.7752\n",
      "Epoch 26/100\n",
      "4/4 [==============================] - 0s 4ms/step - loss: 1.2135 - mse: 1.1789 - mae: 0.7822 - val_loss: 1.2713 - val_mse: 1.2367 - val_mae: 0.7679\n",
      "Epoch 27/100\n",
      "4/4 [==============================] - 0s 4ms/step - loss: 1.1929 - mse: 1.1584 - mae: 0.7750 - val_loss: 1.2488 - val_mse: 1.2144 - val_mae: 0.7606\n",
      "Epoch 28/100\n",
      "4/4 [==============================] - 0s 4ms/step - loss: 1.1738 - mse: 1.1393 - mae: 0.7677 - val_loss: 1.2276 - val_mse: 1.1933 - val_mae: 0.7536\n",
      "Epoch 29/100\n",
      "4/4 [==============================] - 0s 4ms/step - loss: 1.1553 - mse: 1.1209 - mae: 0.7606 - val_loss: 1.2078 - val_mse: 1.1735 - val_mae: 0.7462\n",
      "Epoch 30/100\n",
      "4/4 [==============================] - 0s 4ms/step - loss: 1.1382 - mse: 1.1040 - mae: 0.7532 - val_loss: 1.1895 - val_mse: 1.1553 - val_mae: 0.7391\n",
      "Epoch 31/100\n",
      "4/4 [==============================] - 0s 4ms/step - loss: 1.1229 - mse: 1.0887 - mae: 0.7462 - val_loss: 1.1716 - val_mse: 1.1375 - val_mae: 0.7319\n",
      "Epoch 32/100\n",
      "4/4 [==============================] - 0s 4ms/step - loss: 1.1069 - mse: 1.0729 - mae: 0.7392 - val_loss: 1.1562 - val_mse: 1.1223 - val_mae: 0.7258\n",
      "Epoch 33/100\n",
      "4/4 [==============================] - 0s 3ms/step - loss: 1.0928 - mse: 1.0589 - mae: 0.7331 - val_loss: 1.1416 - val_mse: 1.1078 - val_mae: 0.7203\n",
      "Epoch 34/100\n",
      "4/4 [==============================] - 0s 4ms/step - loss: 1.0801 - mse: 1.0462 - mae: 0.7275 - val_loss: 1.1271 - val_mse: 1.0934 - val_mae: 0.7149\n",
      "Epoch 35/100\n",
      "4/4 [==============================] - 0s 4ms/step - loss: 1.0672 - mse: 1.0335 - mae: 0.7217 - val_loss: 1.1132 - val_mse: 1.0796 - val_mae: 0.7088\n",
      "Epoch 36/100\n",
      "4/4 [==============================] - 0s 4ms/step - loss: 1.0550 - mse: 1.0213 - mae: 0.7162 - val_loss: 1.1008 - val_mse: 1.0672 - val_mae: 0.7039\n",
      "Epoch 37/100\n",
      "4/4 [==============================] - 0s 4ms/step - loss: 1.0440 - mse: 1.0105 - mae: 0.7110 - val_loss: 1.0891 - val_mse: 1.0556 - val_mae: 0.6994\n",
      "Epoch 38/100\n",
      "4/4 [==============================] - 0s 4ms/step - loss: 1.0331 - mse: 0.9996 - mae: 0.7060 - val_loss: 1.0779 - val_mse: 1.0445 - val_mae: 0.6943\n",
      "Epoch 39/100\n",
      "4/4 [==============================] - 0s 4ms/step - loss: 1.0236 - mse: 0.9902 - mae: 0.7009 - val_loss: 1.0660 - val_mse: 1.0327 - val_mae: 0.6884\n",
      "Epoch 40/100\n",
      "4/4 [==============================] - 0s 4ms/step - loss: 1.0133 - mse: 0.9801 - mae: 0.6959 - val_loss: 1.0551 - val_mse: 1.0218 - val_mae: 0.6837\n",
      "Epoch 41/100\n",
      "4/4 [==============================] - 0s 4ms/step - loss: 1.0039 - mse: 0.9707 - mae: 0.6913 - val_loss: 1.0450 - val_mse: 1.0119 - val_mae: 0.6796\n",
      "Epoch 42/100\n",
      "4/4 [==============================] - 0s 4ms/step - loss: 0.9949 - mse: 0.9618 - mae: 0.6872 - val_loss: 1.0356 - val_mse: 1.0025 - val_mae: 0.6763\n",
      "Epoch 43/100\n",
      "4/4 [==============================] - 0s 4ms/step - loss: 0.9864 - mse: 0.9534 - mae: 0.6835 - val_loss: 1.0261 - val_mse: 0.9932 - val_mae: 0.6725\n",
      "Epoch 44/100\n",
      "4/4 [==============================] - 0s 4ms/step - loss: 0.9779 - mse: 0.9449 - mae: 0.6796 - val_loss: 1.0175 - val_mse: 0.9846 - val_mae: 0.6688\n",
      "Epoch 45/100\n",
      "4/4 [==============================] - 0s 4ms/step - loss: 0.9701 - mse: 0.9372 - mae: 0.6760 - val_loss: 1.0089 - val_mse: 0.9761 - val_mae: 0.6650\n",
      "Epoch 46/100\n",
      "4/4 [==============================] - 0s 4ms/step - loss: 0.9621 - mse: 0.9293 - mae: 0.6720 - val_loss: 1.0009 - val_mse: 0.9681 - val_mae: 0.6606\n",
      "Epoch 47/100\n",
      "4/4 [==============================] - 0s 4ms/step - loss: 0.9548 - mse: 0.9220 - mae: 0.6679 - val_loss: 0.9933 - val_mse: 0.9606 - val_mae: 0.6562\n",
      "Epoch 48/100\n",
      "4/4 [==============================] - 0s 4ms/step - loss: 0.9474 - mse: 0.9148 - mae: 0.6637 - val_loss: 0.9854 - val_mse: 0.9528 - val_mae: 0.6512\n",
      "Epoch 49/100\n",
      "4/4 [==============================] - 0s 3ms/step - loss: 0.9406 - mse: 0.9080 - mae: 0.6593 - val_loss: 0.9779 - val_mse: 0.9453 - val_mae: 0.6464\n",
      "Epoch 50/100\n",
      "4/4 [==============================] - 0s 3ms/step - loss: 0.9340 - mse: 0.9015 - mae: 0.6551 - val_loss: 0.9707 - val_mse: 0.9382 - val_mae: 0.6419\n",
      "Epoch 51/100\n"
     ]
    },
    {
     "name": "stdout",
     "output_type": "stream",
     "text": [
      "4/4 [==============================] - 0s 4ms/step - loss: 0.9275 - mse: 0.8951 - mae: 0.6510 - val_loss: 0.9636 - val_mse: 0.9312 - val_mae: 0.6370\n",
      "Epoch 52/100\n",
      "4/4 [==============================] - 0s 3ms/step - loss: 0.9210 - mse: 0.8886 - mae: 0.6468 - val_loss: 0.9564 - val_mse: 0.9241 - val_mae: 0.6327\n",
      "Epoch 53/100\n",
      "4/4 [==============================] - 0s 4ms/step - loss: 0.9145 - mse: 0.8822 - mae: 0.6429 - val_loss: 0.9495 - val_mse: 0.9172 - val_mae: 0.6286\n",
      "Epoch 54/100\n",
      "4/4 [==============================] - 0s 4ms/step - loss: 0.9084 - mse: 0.8761 - mae: 0.6395 - val_loss: 0.9427 - val_mse: 0.9105 - val_mae: 0.6246\n",
      "Epoch 55/100\n",
      "4/4 [==============================] - 0s 4ms/step - loss: 0.9027 - mse: 0.8706 - mae: 0.6361 - val_loss: 0.9363 - val_mse: 0.9042 - val_mae: 0.6212\n",
      "Epoch 56/100\n",
      "4/4 [==============================] - 0s 4ms/step - loss: 0.8969 - mse: 0.8648 - mae: 0.6332 - val_loss: 0.9314 - val_mse: 0.8993 - val_mae: 0.6194\n",
      "Epoch 57/100\n",
      "4/4 [==============================] - 0s 4ms/step - loss: 0.8915 - mse: 0.8594 - mae: 0.6306 - val_loss: 0.9266 - val_mse: 0.8946 - val_mae: 0.6168\n",
      "Epoch 58/100\n",
      "4/4 [==============================] - 0s 4ms/step - loss: 0.8866 - mse: 0.8546 - mae: 0.6277 - val_loss: 0.9218 - val_mse: 0.8899 - val_mae: 0.6146\n",
      "Epoch 59/100\n",
      "4/4 [==============================] - 0s 4ms/step - loss: 0.8818 - mse: 0.8499 - mae: 0.6256 - val_loss: 0.9175 - val_mse: 0.8856 - val_mae: 0.6133\n",
      "Epoch 60/100\n",
      "4/4 [==============================] - 0s 4ms/step - loss: 0.8773 - mse: 0.8454 - mae: 0.6240 - val_loss: 0.9136 - val_mse: 0.8817 - val_mae: 0.6122\n",
      "Epoch 61/100\n",
      "4/4 [==============================] - 0s 4ms/step - loss: 0.8726 - mse: 0.8408 - mae: 0.6221 - val_loss: 0.9088 - val_mse: 0.8771 - val_mae: 0.6100\n",
      "Epoch 62/100\n",
      "4/4 [==============================] - 0s 4ms/step - loss: 0.8684 - mse: 0.8366 - mae: 0.6200 - val_loss: 0.9041 - val_mse: 0.8724 - val_mae: 0.6080\n",
      "Epoch 63/100\n",
      "4/4 [==============================] - 0s 4ms/step - loss: 0.8634 - mse: 0.8317 - mae: 0.6177 - val_loss: 0.9000 - val_mse: 0.8683 - val_mae: 0.6058\n",
      "Epoch 64/100\n",
      "4/4 [==============================] - 0s 4ms/step - loss: 0.8592 - mse: 0.8276 - mae: 0.6156 - val_loss: 0.8954 - val_mse: 0.8638 - val_mae: 0.6033\n",
      "Epoch 65/100\n",
      "4/4 [==============================] - 0s 4ms/step - loss: 0.8548 - mse: 0.8232 - mae: 0.6131 - val_loss: 0.8905 - val_mse: 0.8589 - val_mae: 0.6004\n",
      "Epoch 66/100\n",
      "4/4 [==============================] - 0s 3ms/step - loss: 0.8503 - mse: 0.8188 - mae: 0.6102 - val_loss: 0.8857 - val_mse: 0.8542 - val_mae: 0.5970\n",
      "Epoch 67/100\n",
      "4/4 [==============================] - 0s 4ms/step - loss: 0.8462 - mse: 0.8147 - mae: 0.6073 - val_loss: 0.8810 - val_mse: 0.8496 - val_mae: 0.5938\n",
      "Epoch 68/100\n",
      "4/4 [==============================] - 0s 4ms/step - loss: 0.8421 - mse: 0.8107 - mae: 0.6044 - val_loss: 0.8763 - val_mse: 0.8449 - val_mae: 0.5904\n",
      "Epoch 69/100\n",
      "4/4 [==============================] - 0s 4ms/step - loss: 0.8384 - mse: 0.8070 - mae: 0.6017 - val_loss: 0.8720 - val_mse: 0.8407 - val_mae: 0.5876\n",
      "Epoch 70/100\n",
      "4/4 [==============================] - 0s 4ms/step - loss: 0.8346 - mse: 0.8033 - mae: 0.5994 - val_loss: 0.8684 - val_mse: 0.8371 - val_mae: 0.5857\n",
      "Epoch 71/100\n",
      "4/4 [==============================] - 0s 4ms/step - loss: 0.8314 - mse: 0.8002 - mae: 0.5977 - val_loss: 0.8650 - val_mse: 0.8337 - val_mae: 0.5842\n",
      "Epoch 72/100\n",
      "4/4 [==============================] - 0s 4ms/step - loss: 0.8276 - mse: 0.7964 - mae: 0.5955 - val_loss: 0.8614 - val_mse: 0.8302 - val_mae: 0.5818\n",
      "Epoch 73/100\n",
      "4/4 [==============================] - 0s 4ms/step - loss: 0.8243 - mse: 0.7932 - mae: 0.5931 - val_loss: 0.8578 - val_mse: 0.8266 - val_mae: 0.5793\n",
      "Epoch 74/100\n",
      "4/4 [==============================] - 0s 4ms/step - loss: 0.8210 - mse: 0.7899 - mae: 0.5910 - val_loss: 0.8545 - val_mse: 0.8234 - val_mae: 0.5775\n",
      "Epoch 75/100\n",
      "4/4 [==============================] - 0s 4ms/step - loss: 0.8179 - mse: 0.7869 - mae: 0.5894 - val_loss: 0.8514 - val_mse: 0.8204 - val_mae: 0.5759\n",
      "Epoch 76/100\n",
      "4/4 [==============================] - 0s 4ms/step - loss: 0.8147 - mse: 0.7837 - mae: 0.5881 - val_loss: 0.8486 - val_mse: 0.8176 - val_mae: 0.5748\n",
      "Epoch 77/100\n",
      "4/4 [==============================] - 0s 4ms/step - loss: 0.8114 - mse: 0.7804 - mae: 0.5869 - val_loss: 0.8458 - val_mse: 0.8148 - val_mae: 0.5735\n",
      "Epoch 78/100\n",
      "4/4 [==============================] - 0s 4ms/step - loss: 0.8085 - mse: 0.7776 - mae: 0.5860 - val_loss: 0.8431 - val_mse: 0.8122 - val_mae: 0.5729\n",
      "Epoch 79/100\n",
      "4/4 [==============================] - 0s 4ms/step - loss: 0.8055 - mse: 0.7745 - mae: 0.5853 - val_loss: 0.8409 - val_mse: 0.8100 - val_mae: 0.5722\n",
      "Epoch 80/100\n",
      "4/4 [==============================] - 0s 4ms/step - loss: 0.8026 - mse: 0.7717 - mae: 0.5842 - val_loss: 0.8387 - val_mse: 0.8079 - val_mae: 0.5711\n",
      "Epoch 81/100\n",
      "4/4 [==============================] - 0s 4ms/step - loss: 0.7997 - mse: 0.7689 - mae: 0.5829 - val_loss: 0.8363 - val_mse: 0.8055 - val_mae: 0.5693\n",
      "Epoch 82/100\n",
      "4/4 [==============================] - 0s 4ms/step - loss: 0.7971 - mse: 0.7663 - mae: 0.5815 - val_loss: 0.8339 - val_mse: 0.8031 - val_mae: 0.5675\n",
      "Epoch 83/100\n",
      "4/4 [==============================] - 0s 3ms/step - loss: 0.7944 - mse: 0.7636 - mae: 0.5799 - val_loss: 0.8311 - val_mse: 0.8003 - val_mae: 0.5654\n",
      "Epoch 84/100\n",
      "4/4 [==============================] - 0s 4ms/step - loss: 0.7918 - mse: 0.7610 - mae: 0.5786 - val_loss: 0.8287 - val_mse: 0.7980 - val_mae: 0.5642\n",
      "Epoch 85/100\n",
      "4/4 [==============================] - 0s 4ms/step - loss: 0.7888 - mse: 0.7582 - mae: 0.5773 - val_loss: 0.8261 - val_mse: 0.7954 - val_mae: 0.5621\n",
      "Epoch 86/100\n",
      "4/4 [==============================] - 0s 4ms/step - loss: 0.7861 - mse: 0.7555 - mae: 0.5757 - val_loss: 0.8231 - val_mse: 0.7925 - val_mae: 0.5596\n",
      "Epoch 87/100\n",
      "4/4 [==============================] - 0s 4ms/step - loss: 0.7833 - mse: 0.7527 - mae: 0.5736 - val_loss: 0.8200 - val_mse: 0.7894 - val_mae: 0.5567\n",
      "Epoch 88/100\n",
      "4/4 [==============================] - 0s 4ms/step - loss: 0.7808 - mse: 0.7502 - mae: 0.5719 - val_loss: 0.8175 - val_mse: 0.7870 - val_mae: 0.5552\n",
      "Epoch 89/100\n",
      "4/4 [==============================] - 0s 4ms/step - loss: 0.7782 - mse: 0.7476 - mae: 0.5706 - val_loss: 0.8149 - val_mse: 0.7844 - val_mae: 0.5537\n",
      "Epoch 90/100\n",
      "4/4 [==============================] - 0s 4ms/step - loss: 0.7755 - mse: 0.7450 - mae: 0.5692 - val_loss: 0.8123 - val_mse: 0.7818 - val_mae: 0.5524\n",
      "Epoch 91/100\n",
      "4/4 [==============================] - 0s 4ms/step - loss: 0.7730 - mse: 0.7425 - mae: 0.5682 - val_loss: 0.8096 - val_mse: 0.7791 - val_mae: 0.5519\n",
      "Epoch 92/100\n",
      "4/4 [==============================] - 0s 3ms/step - loss: 0.7704 - mse: 0.7399 - mae: 0.5676 - val_loss: 0.8073 - val_mse: 0.7768 - val_mae: 0.5525\n",
      "Epoch 93/100\n",
      "4/4 [==============================] - 0s 4ms/step - loss: 0.7678 - mse: 0.7374 - mae: 0.5672 - val_loss: 0.8048 - val_mse: 0.7744 - val_mae: 0.5525\n",
      "Epoch 94/100\n",
      "4/4 [==============================] - 0s 4ms/step - loss: 0.7653 - mse: 0.7349 - mae: 0.5662 - val_loss: 0.8022 - val_mse: 0.7718 - val_mae: 0.5524\n",
      "Epoch 95/100\n",
      "4/4 [==============================] - 0s 3ms/step - loss: 0.7630 - mse: 0.7326 - mae: 0.5651 - val_loss: 0.7988 - val_mse: 0.7684 - val_mae: 0.5517\n",
      "Epoch 96/100\n",
      "4/4 [==============================] - 0s 3ms/step - loss: 0.7600 - mse: 0.7296 - mae: 0.5639 - val_loss: 0.7957 - val_mse: 0.7653 - val_mae: 0.5507\n",
      "Epoch 97/100\n",
      "4/4 [==============================] - 0s 4ms/step - loss: 0.7581 - mse: 0.7277 - mae: 0.5625 - val_loss: 0.7925 - val_mse: 0.7621 - val_mae: 0.5491\n",
      "Epoch 98/100\n",
      "4/4 [==============================] - 0s 4ms/step - loss: 0.7553 - mse: 0.7249 - mae: 0.5612 - val_loss: 0.7903 - val_mse: 0.7599 - val_mae: 0.5485\n",
      "Epoch 99/100\n",
      "4/4 [==============================] - 0s 4ms/step - loss: 0.7531 - mse: 0.7227 - mae: 0.5610 - val_loss: 0.7884 - val_mse: 0.7581 - val_mae: 0.5488\n",
      "Epoch 100/100\n",
      "4/4 [==============================] - 0s 4ms/step - loss: 0.7506 - mse: 0.7202 - mae: 0.5607 - val_loss: 0.7864 - val_mse: 0.7561 - val_mae: 0.5484\n"
     ]
    }
   ],
   "source": [
    "############################  TRAINING ############################ \n",
    "\n",
    "training_time = time.time()\n",
    "\n",
    "history = model.fit(Xtrain, ytrain, validation_data=(Xval, yval),\n",
    "                    epochs=epochs, batch_size=batch_size, verbose=1)\n",
    "training_time = training_time - time.time()"
   ]
  },
  {
   "cell_type": "code",
   "execution_count": 32,
   "id": "27b32de7",
   "metadata": {},
   "outputs": [],
   "source": [
    "# Save entire model to a HDF5 file\n",
    "model.save(filename_out + '_model.h5')\n",
    "# Save model to XML\n",
    "utils.save_model_to_xml(filename_out + '.xml', model, Xpeaks, ypeaks, scaleInput, normalizeOutput)\n",
    "# plot predictions\n",
    "y_pred = model.predict(Xnorm)"
   ]
  },
  {
   "cell_type": "markdown",
   "id": "119c78dd",
   "metadata": {},
   "source": [
    "## Plot surrogate function"
   ]
  },
  {
   "cell_type": "code",
   "execution_count": 33,
   "id": "961026e2",
   "metadata": {},
   "outputs": [
    {
     "data": {
      "image/png": "[encoded data removed]",
      "text/plain": [
       "<Figure size 720x288 with 2 Axes>"
      ]
     },
     "metadata": {
      "needs_background": "light"
     },
     "output_type": "display_data"
    }
   ],
   "source": [
    "############################ PLOT PREDICTIONS ############################ \n",
    "n_train = Xnorm.shape[0]\n",
    "n_rt = np.sqrt(n_train).astype(int)\n",
    "X = np.zeros((n_rt, n_rt))\n",
    "Y = np.zeros((n_rt, n_rt))\n",
    "Z_true = np.zeros((n_rt, n_rt))\n",
    "Z_pred = np.zeros((n_rt, n_rt))\n",
    "for i in range(n_rt):\n",
    "    for j in range(n_rt):\n",
    "        X[i, j] = Xnorm[i * n_rt + j, 0]\n",
    "        Y[i, j] = Xnorm[i * n_rt + j, 1]\n",
    "        Z_true[i, j] = ynorm[i * n_rt + j]\n",
    "        Z_pred[i, j] = y_pred[i * n_rt + j]\n",
    "\n",
    "fig = plt.figure(figsize=plt.figaspect(0.4))\n",
    "ax = fig.add_subplot(1, 2, 1, projection='3d')\n",
    "cmap = plt.get_cmap('coolwarm')\n",
    "ax.plot_surface(X, Y, Z_true, cmap=cmap)\n",
    "ax.set_title('training data')\n",
    "\n",
    "ax = fig.add_subplot(1, 2, 2, projection='3d')\n",
    "ax.plot_wireframe(X, Y, Z_pred)\n",
    "ax.set_title('learned function')\n",
    "plt.show()\n"
   ]
  },
  {
   "cell_type": "markdown",
   "id": "d4061345",
   "metadata": {},
   "source": [
    "## Optimize with maingopy"
   ]
  },
  {
   "cell_type": "code",
   "execution_count": 34,
   "id": "261d3699",
   "metadata": {},
   "outputs": [],
   "source": [
    "# To define a model, we need to spcecialize the MAiNGOmodel class\n",
    "class Model(maingopy.MAiNGOmodel):\n",
    "    def __init__(self):\n",
    "        maingopy.MAiNGOmodel.__init__(self)\n",
    "        # Initialize feedforward neural network and load data from example csv file\n",
    "        self.ffANN = maingopy.melonpy.FeedForwardNet()\n",
    "        # folder where the model xml is stored\n",
    "        self.path = \"./data/Output/\"\n",
    "        # xml filename\n",
    "        self.fileName= \"peaks\"\n",
    "        # open them (define that it is an XML instead of a CSV)\n",
    "        self.ffANN.load_model(self.path, self.fileName, maingopy.melonpy.XML)\n",
    "\n",
    "    # We need to implement the get_variables functions for specifying the optimization varibles\n",
    "    def get_variables(self):\n",
    "        # define bounds of the original variables, so that it rescales the results fo the optimization\n",
    "        # the optimization is done with the normalized version of these values\n",
    "        variables = [ maingopy.OptimizationVariable(maingopy.Bounds(-3,3), maingopy.VT_CONTINUOUS, \"x\"),\n",
    "                      maingopy.OptimizationVariable(maingopy.Bounds(-3,3), maingopy.VT_CONTINUOUS, \"y\") ]\n",
    "        return variables\n",
    "\n",
    "    # We need to implement the evaluate function that computes the values of the objective and constraints from the variables.\n",
    "    # Note that the variables in the 'vars' argument of this function do correspond to the optimization variables defined in the get_variables function.\n",
    "    # However, they are different objects for technical reasons. The only mapping we have between them is the position in the list.\n",
    "    # The results of the evaluation (i.e., objective and constraint values) need to be return in an EvaluationContainer\n",
    "    def evaluate(self, vars):\n",
    "        x = vars[0]\n",
    "        y = vars[1]\n",
    "        \n",
    "        # Inputs to the ANN are the variables x and y\n",
    "        annInputs = [x, y]\n",
    "        \n",
    "        # Evaluate the network (in reduced-space)\n",
    "        # This returns a list, because the output of the network may be multidimensional\n",
    "        annOutputs = self.ffANN.calculate_prediction_reduced_space(annInputs)\n",
    "\n",
    "        # Set the ANN output (only 1 in this case) as objective to be minimized\n",
    "        result = maingopy.EvaluationContainer()\n",
    "        result.objective = annOutputs[0]\n",
    "\n",
    "        return result"
   ]
  },
  {
   "cell_type": "code",
   "execution_count": 35,
   "id": "787cc45d",
   "metadata": {},
   "outputs": [],
   "source": [
    "# To work with the problem, we first create an instance of the model.\n",
    "myModel = Model()\n",
    "# We then create an instance of MAiNGO, the solver, and hand it the model.\n",
    "myMAiNGO = maingopy.MAiNGO(myModel)"
   ]
  },
  {
   "cell_type": "code",
   "execution_count": 36,
   "id": "acd6df07",
   "metadata": {},
   "outputs": [],
   "source": [
    "# We can have MAiNGO read a settings file:\n",
    "fileName = \"\"\n",
    "myMAiNGO.read_settings(fileName) # If fileName is empty, MAiNGO will attempt to open MAiNGOSettings.txt\n",
    "myMAiNGO.set_log_file_name(\".logs/my_log_file.log\")\n",
    "myMAiNGO.set_option(\"writeCsv\", True)\n",
    "myMAiNGO.set_iterations_csv_file_name(\".logs/iterations.csv\")\n",
    "myMAiNGO.set_solution_and_statistics_csv_file_name(\".logs/solution_and_statistics.csv\")"
   ]
  },
  {
   "cell_type": "code",
   "execution_count": 37,
   "id": "8bcf1f98",
   "metadata": {},
   "outputs": [],
   "source": [
    "myMAiNGO.write_model_to_file_in_other_language(writingLanguage=maingopy.LANG_GAMS, fileName=\"./logs(my_problem_file_MAiNGO.gms\", solverName=\"SCIP\", writeRelaxationOnly=False)"
   ]
  },
  {
   "cell_type": "code",
   "execution_count": 38,
   "id": "295bd166",
   "metadata": {},
   "outputs": [
    {
     "name": "stdout",
     "output_type": "stream",
     "text": [
      "RETCODE.GLOBALLY_OPTIMAL\n"
     ]
    }
   ],
   "source": [
    "# Finally, we call the solve routine to solve the problem.\n",
    "maingoStatus = myMAiNGO.solve()\n",
    "print(maingoStatus)"
   ]
  },
  {
   "cell_type": "code",
   "execution_count": 39,
   "id": "f213eb34",
   "metadata": {},
   "outputs": [
    {
     "data": {
      "text/plain": [
       "['__class__',\n",
       " '__delattr__',\n",
       " '__dir__',\n",
       " '__doc__',\n",
       " '__eq__',\n",
       " '__format__',\n",
       " '__ge__',\n",
       " '__getattribute__',\n",
       " '__gt__',\n",
       " '__hash__',\n",
       " '__init__',\n",
       " '__init_subclass__',\n",
       " '__le__',\n",
       " '__lt__',\n",
       " '__module__',\n",
       " '__ne__',\n",
       " '__new__',\n",
       " '__reduce__',\n",
       " '__reduce_ex__',\n",
       " '__repr__',\n",
       " '__setattr__',\n",
       " '__sizeof__',\n",
       " '__str__',\n",
       " '__subclasshook__',\n",
       " 'evaluate_additional_outputs_at_point',\n",
       " 'evaluate_additional_outputs_at_solution_point',\n",
       " 'evaluate_model_at_point',\n",
       " 'evaluate_model_at_solution_point',\n",
       " 'get_LBP_count',\n",
       " 'get_UBP_count',\n",
       " 'get_cpu_solution_time',\n",
       " 'get_final_LBD',\n",
       " 'get_final_abs_gap',\n",
       " 'get_final_rel_gap',\n",
       " 'get_iterations',\n",
       " 'get_max_nodes_in_memory',\n",
       " 'get_objective_value',\n",
       " 'get_solution_point',\n",
       " 'get_status',\n",
       " 'get_wallclock_solution_time',\n",
       " 'read_settings',\n",
       " 'set_iterations_csv_file_name',\n",
       " 'set_json_file_name',\n",
       " 'set_log_file_name',\n",
       " 'set_model',\n",
       " 'set_option',\n",
       " 'set_result_file_name',\n",
       " 'set_solution_and_statistics_csv_file_name',\n",
       " 'solve',\n",
       " 'write_model_to_file_in_other_language']"
      ]
     },
     "execution_count": 39,
     "metadata": {},
     "output_type": "execute_result"
    }
   ],
   "source": [
    "dir(myMAiNGO)"
   ]
  },
  {
   "cell_type": "code",
   "execution_count": 40,
   "id": "99dfcb98",
   "metadata": {},
   "outputs": [
    {
     "data": {
      "text/plain": [
       "[-3.0, -3.0]"
      ]
     },
     "execution_count": 40,
     "metadata": {},
     "output_type": "execute_result"
    }
   ],
   "source": [
    "myMAiNGO.get_solution_point()"
   ]
  },
  {
   "cell_type": "code",
   "execution_count": 41,
   "id": "90bfc86d",
   "metadata": {},
   "outputs": [
    {
     "data": {
      "text/plain": [
       "-1.5587385835855327"
      ]
     },
     "execution_count": 41,
     "metadata": {},
     "output_type": "execute_result"
    }
   ],
   "source": [
    "myMAiNGO.get_objective_value()"
   ]
  },
  {
   "cell_type": "code",
   "execution_count": 42,
   "id": "47e8aaa5",
   "metadata": {},
   "outputs": [
    {
     "data": {
      "text/plain": [
       "<RETCODE.GLOBALLY_OPTIMAL: 0>"
      ]
     },
     "execution_count": 42,
     "metadata": {},
     "output_type": "execute_result"
    }
   ],
   "source": [
    "myMAiNGO.get_status()"
   ]
  },
  {
   "cell_type": "code",
   "execution_count": 43,
   "id": "7a8bc19c",
   "metadata": {},
   "outputs": [
    {
     "data": {
      "text/plain": [
       "0.062000000005355105"
      ]
     },
     "execution_count": 43,
     "metadata": {},
     "output_type": "execute_result"
    }
   ],
   "source": [
    "myMAiNGO.get_cpu_solution_time()"
   ]
  },
  {
   "cell_type": "code",
   "execution_count": 44,
   "id": "47526c02",
   "metadata": {},
   "outputs": [
    {
     "data": {
      "text/plain": [
       "<maingopy._maingopy.Bounds at 0x1ba90cad1b0>"
      ]
     },
     "execution_count": 44,
     "metadata": {},
     "output_type": "execute_result"
    }
   ],
   "source": [
    "maingopy.Bounds(-3,3)"
   ]
  },
  {
   "cell_type": "code",
   "execution_count": 45,
   "id": "81950f8f",
   "metadata": {},
   "outputs": [
    {
     "data": {
      "text/plain": [
       "([-0.5375481046174451], True)"
      ]
     },
     "execution_count": 45,
     "metadata": {},
     "output_type": "execute_result"
    }
   ],
   "source": [
    "myMAiNGO.evaluate_model_at_point(np.array([0.228, -1.626]))"
   ]
  },
  {
   "cell_type": "code",
   "execution_count": 49,
   "id": "0455d71b",
   "metadata": {},
   "outputs": [
    {
     "data": {
      "text/plain": [
       "array([[-0.9721647]], dtype=float32)"
      ]
     },
     "execution_count": 49,
     "metadata": {},
     "output_type": "execute_result"
    }
   ],
   "source": [
    "model.predict(np.array([[-1,-1]]))"
   ]
  },
  {
   "cell_type": "code",
   "execution_count": 50,
   "id": "77f523df",
   "metadata": {},
   "outputs": [
    {
     "data": {
      "text/plain": [
       "array([[-0.4132011]], dtype=float32)"
      ]
     },
     "execution_count": 50,
     "metadata": {},
     "output_type": "execute_result"
    }
   ],
   "source": [
    "model.predict(np.array([[0, -0.5]]))"
   ]
  },
  {
   "cell_type": "code",
   "execution_count": 52,
   "id": "1d05d61b",
   "metadata": {},
   "outputs": [
    {
     "ename": "TypeError",
     "evalue": "'numpy.float64' object does not support item assignment",
     "output_type": "error",
     "traceback": [
      "\u001b[1;31m---------------------------------------------------------------------------\u001b[0m",
      "\u001b[1;31mTypeError\u001b[0m                                 Traceback (most recent call last)",
      "\u001b[1;32m~\\AppData\\Local\\Temp/ipykernel_11584/2297847787.py\u001b[0m in \u001b[0;36m<module>\u001b[1;34m\u001b[0m\n\u001b[1;32m----> 1\u001b[1;33m \u001b[0mscale\u001b[0m\u001b[1;33m(\u001b[0m\u001b[0mnp\u001b[0m\u001b[1;33m.\u001b[0m\u001b[0marray\u001b[0m\u001b[1;33m(\u001b[0m\u001b[1;33m[\u001b[0m\u001b[1;36m0.228\u001b[0m\u001b[1;33m,\u001b[0m \u001b[1;33m-\u001b[0m\u001b[1;36m1.626\u001b[0m\u001b[1;33m]\u001b[0m\u001b[1;33m)\u001b[0m\u001b[1;33m,\u001b[0m \u001b[0mscaleInput\u001b[0m\u001b[1;33m=\u001b[0m\u001b[1;32mTrue\u001b[0m\u001b[1;33m)\u001b[0m\u001b[1;33m\u001b[0m\u001b[1;33m\u001b[0m\u001b[0m\n\u001b[0m",
      "\u001b[1;32m~\\AppData\\Local\\Temp/ipykernel_11584/3522159774.py\u001b[0m in \u001b[0;36mscale\u001b[1;34m(X, scaleInput)\u001b[0m\n\u001b[0;32m      4\u001b[0m         \u001b[0mnom\u001b[0m \u001b[1;33m=\u001b[0m \u001b[1;33m(\u001b[0m\u001b[0mX\u001b[0m \u001b[1;33m-\u001b[0m  \u001b[0mX\u001b[0m\u001b[1;33m.\u001b[0m\u001b[0mmin\u001b[0m\u001b[1;33m(\u001b[0m\u001b[0maxis\u001b[0m\u001b[1;33m=\u001b[0m\u001b[1;36m0\u001b[0m\u001b[1;33m)\u001b[0m\u001b[1;33m)\u001b[0m\u001b[1;33m*\u001b[0m\u001b[1;36m2\u001b[0m\u001b[1;33m\u001b[0m\u001b[1;33m\u001b[0m\u001b[0m\n\u001b[0;32m      5\u001b[0m         \u001b[0mdenom\u001b[0m \u001b[1;33m=\u001b[0m \u001b[0mX\u001b[0m\u001b[1;33m.\u001b[0m\u001b[0mmax\u001b[0m\u001b[1;33m(\u001b[0m\u001b[0maxis\u001b[0m\u001b[1;33m=\u001b[0m\u001b[1;36m0\u001b[0m\u001b[1;33m)\u001b[0m \u001b[1;33m-\u001b[0m \u001b[0mX\u001b[0m\u001b[1;33m.\u001b[0m\u001b[0mmin\u001b[0m\u001b[1;33m(\u001b[0m\u001b[0maxis\u001b[0m\u001b[1;33m=\u001b[0m\u001b[1;36m0\u001b[0m\u001b[1;33m)\u001b[0m\u001b[1;33m\u001b[0m\u001b[1;33m\u001b[0m\u001b[0m\n\u001b[1;32m----> 6\u001b[1;33m         \u001b[0mdenom\u001b[0m\u001b[1;33m[\u001b[0m\u001b[0mdenom\u001b[0m\u001b[1;33m==\u001b[0m\u001b[1;36m0\u001b[0m\u001b[1;33m]\u001b[0m \u001b[1;33m=\u001b[0m \u001b[1;36m1\u001b[0m\u001b[1;33m\u001b[0m\u001b[1;33m\u001b[0m\u001b[0m\n\u001b[0m\u001b[0;32m      7\u001b[0m         \u001b[1;32mreturn\u001b[0m \u001b[1;33m-\u001b[0m\u001b[1;36m1\u001b[0m \u001b[1;33m+\u001b[0m \u001b[0mnom\u001b[0m\u001b[1;33m/\u001b[0m\u001b[0mdenom\u001b[0m\u001b[1;33m\u001b[0m\u001b[1;33m\u001b[0m\u001b[0m\n\u001b[0;32m      8\u001b[0m     \u001b[1;32melse\u001b[0m\u001b[1;33m:\u001b[0m\u001b[1;33m\u001b[0m\u001b[1;33m\u001b[0m\u001b[0m\n",
      "\u001b[1;31mTypeError\u001b[0m: 'numpy.float64' object does not support item assignment"
     ]
    }
   ],
   "source": [
    "np.array([[0.228, -1.626]])"
   ]
  },
  {
   "cell_type": "code",
   "execution_count": null,
   "id": "43ea2d05",
   "metadata": {},
   "outputs": [],
   "source": []
  }
 ],
 "metadata": {
  "kernelspec": {
   "display_name": "Python 3 (ipykernel)",
   "language": "python",
   "name": "python3"
  },
  "language_info": {
   "codemirror_mode": {
    "name": "ipython",
    "version": 3
   },
   "file_extension": ".py",
   "mimetype": "text/x-python",
   "name": "python",
   "nbconvert_exporter": "python",
   "pygments_lexer": "ipython3",
   "version": "3.8.12"
  }
 },
 "nbformat": 4,
 "nbformat_minor": 5
}

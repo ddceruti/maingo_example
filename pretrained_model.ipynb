{
 "cells": [
  {
   "cell_type": "markdown",
   "id": "a80e7fb5",
   "metadata": {},
   "source": [
    "# Example ANN generation and training\n",
    "\n",
    "From melon doc (https://git.rwth-aachen.de/avt-svt/public/MeLOn/-/blob/master/feedforward%20neural%20network/training/keras/example_training_of_ANN.py) and the ANN paper (https://link.springer.com/content/pdf/10.1007/s10957-018-1396-0.pdf)."
   ]
  },
  {
   "cell_type": "code",
   "execution_count": 1,
   "id": "3ace0207",
   "metadata": {},
   "outputs": [],
   "source": [
    "import utils\n",
    "import tensorflow as tf\n",
    "import numpy as np\n",
    "import time\n",
    "from sklearn.model_selection import train_test_split\n",
    "import matplotlib.pyplot as plt\n",
    "from pyDOE import lhs\n",
    "import maingopy"
   ]
  },
  {
   "cell_type": "markdown",
   "id": "c5ed9ae3",
   "metadata": {},
   "source": [
    "Implement peaks function"
   ]
  },
  {
   "cell_type": "markdown",
   "id": "eea56866",
   "metadata": {},
   "source": [
    "## Optimize with maingopy"
   ]
  },
  {
   "cell_type": "code",
   "execution_count": 2,
   "id": "9f502954",
   "metadata": {},
   "outputs": [],
   "source": [
    "# To define a model, we need to spcecialize the MAiNGOmodel class\n",
    "class Model(maingopy.MAiNGOmodel):\n",
    "    def __init__(self):\n",
    "        maingopy.MAiNGOmodel.__init__(self)\n",
    "        # Initialize feedforward neural network and load data from example csv file\n",
    "        self.ffANN = maingopy.melonpy.FeedForwardNet()\n",
    "        # folder where the model xml is stored\n",
    "        self.path = \"./data\"\n",
    "        # xml filename\n",
    "        self.fileName= \"myTestANN\"\n",
    "        # open them (define that it is an XML instead of a CSV)\n",
    "        self.ffANN.load_model(self.path, self.fileName, maingopy.melonpy.CSV)\n",
    "\n",
    "    # We need to implement the get_variables functions for specifying the optimization varibles\n",
    "    def get_variables(self):\n",
    "        # define bounds of the original variables, so that it rescales the results fo the optimization\n",
    "        # the optimization is done with the normalized version of these values\n",
    "        variables = [ maingopy.OptimizationVariable(maingopy.Bounds(-3,3), maingopy.VT_CONTINUOUS, \"x\"),\n",
    "                      maingopy.OptimizationVariable(maingopy.Bounds(-3,3), maingopy.VT_CONTINUOUS, \"y\") ]\n",
    "        return variables\n",
    "\n",
    "    # We need to implement the evaluate function that computes the values of the objective and constraints from the variables.\n",
    "    # Note that the variables in the 'vars' argument of this function do correspond to the optimization variables defined in the get_variables function.\n",
    "    # However, they are different objects for technical reasons. The only mapping we have between them is the position in the list.\n",
    "    # The results of the evaluation (i.e., objective and constraint values) need to be return in an EvaluationContainer\n",
    "    def evaluate(self, vars):\n",
    "        x = vars[0]\n",
    "        y = vars[1]\n",
    "        \n",
    "        # Inputs to the ANN are the variables x and y\n",
    "        annInputs = [x, y]\n",
    "        \n",
    "        # Evaluate the network (in reduced-space)\n",
    "        # This returns a list, because the output of the network may be multidimensional\n",
    "        annOutputs = self.ffANN.calculate_prediction_reduced_space(annInputs)\n",
    "\n",
    "        # Set the ANN output (only 1 in this case) as objective to be minimized\n",
    "        result = maingopy.EvaluationContainer()\n",
    "        result.objective = annOutputs[0]\n",
    "\n",
    "        return result"
   ]
  },
  {
   "cell_type": "code",
   "execution_count": 3,
   "id": "2dab4db6",
   "metadata": {},
   "outputs": [],
   "source": [
    "# To work with the problem, we first create an instance of the model.\n",
    "myModel = Model()\n",
    "# We then create an instance of MAiNGO, the solver, and hand it the model.\n",
    "myMAiNGO = maingopy.MAiNGO(myModel)"
   ]
  },
  {
   "cell_type": "code",
   "execution_count": 4,
   "id": "41595d54",
   "metadata": {},
   "outputs": [],
   "source": [
    "# We can have MAiNGO read a settings file:\n",
    "fileName = \"\"\n",
    "myMAiNGO.read_settings(fileName) # If fileName is empty, MAiNGO will attempt to open MAiNGOSettings.txt\n",
    "myMAiNGO.set_log_file_name(\".logs/my_log_file.log\")\n",
    "myMAiNGO.set_option(\"writeCsv\", True)\n",
    "myMAiNGO.set_iterations_csv_file_name(\".logs/iterations.csv\")\n",
    "myMAiNGO.set_solution_and_statistics_csv_file_name(\".logs/solution_and_statistics.csv\")"
   ]
  },
  {
   "cell_type": "code",
   "execution_count": 5,
   "id": "48cfb2fe",
   "metadata": {},
   "outputs": [],
   "source": [
    "myMAiNGO.write_model_to_file_in_other_language(writingLanguage=maingopy.LANG_GAMS, fileName=\"./logs/my_problem_file_MAiNGO.gms\", solverName=\"SCIP\", writeRelaxationOnly=False)"
   ]
  },
  {
   "cell_type": "code",
   "execution_count": 6,
   "id": "508626f2",
   "metadata": {},
   "outputs": [
    {
     "name": "stdout",
     "output_type": "stream",
     "text": [
      "RETCODE.GLOBALLY_OPTIMAL\n"
     ]
    }
   ],
   "source": [
    "# Finally, we call the solve routine to solve the problem.\n",
    "maingoStatus = myMAiNGO.solve()\n",
    "print(maingoStatus)"
   ]
  },
  {
   "cell_type": "code",
   "execution_count": 7,
   "id": "aa02e5b2",
   "metadata": {},
   "outputs": [],
   "source": [
    "# dir(myMAiNGO)"
   ]
  },
  {
   "cell_type": "code",
   "execution_count": 8,
   "id": "f50456ce",
   "metadata": {},
   "outputs": [
    {
     "data": {
      "text/plain": [
       "[0.22761935531019054, -1.6239431446898094]"
      ]
     },
     "execution_count": 8,
     "metadata": {},
     "output_type": "execute_result"
    }
   ],
   "source": [
    "myMAiNGO.get_solution_point()"
   ]
  },
  {
   "cell_type": "code",
   "execution_count": 9,
   "id": "1c4eccc1",
   "metadata": {},
   "outputs": [
    {
     "data": {
      "text/plain": [
       "-6.552977624048905"
      ]
     },
     "execution_count": 9,
     "metadata": {},
     "output_type": "execute_result"
    }
   ],
   "source": [
    "myMAiNGO.get_objective_value()"
   ]
  },
  {
   "cell_type": "code",
   "execution_count": 10,
   "id": "3b654a31",
   "metadata": {},
   "outputs": [
    {
     "data": {
      "text/plain": [
       "<RETCODE.GLOBALLY_OPTIMAL: 0>"
      ]
     },
     "execution_count": 10,
     "metadata": {},
     "output_type": "execute_result"
    }
   ],
   "source": [
    "myMAiNGO.get_status()"
   ]
  },
  {
   "cell_type": "code",
   "execution_count": 11,
   "id": "56a1cb49",
   "metadata": {},
   "outputs": [
    {
     "data": {
      "text/plain": [
       "1.125"
      ]
     },
     "execution_count": 11,
     "metadata": {},
     "output_type": "execute_result"
    }
   ],
   "source": [
    "myMAiNGO.get_cpu_solution_time()"
   ]
  },
  {
   "cell_type": "code",
   "execution_count": 12,
   "id": "00af6c7f",
   "metadata": {
    "scrolled": true
   },
   "outputs": [
    {
     "data": {
      "text/plain": [
       "([-6.5530061614914015], True)"
      ]
     },
     "execution_count": 12,
     "metadata": {},
     "output_type": "execute_result"
    }
   ],
   "source": [
    "myMAiNGO.evaluate_model_at_point(np.array([0.228, -1.626]))"
   ]
  },
  {
   "cell_type": "code",
   "execution_count": null,
   "id": "a46e4a0d",
   "metadata": {},
   "outputs": [],
   "source": []
  }
 ],
 "metadata": {
  "kernelspec": {
   "display_name": "Python 3 (ipykernel)",
   "language": "python",
   "name": "python3"
  },
  "language_info": {
   "codemirror_mode": {
    "name": "ipython",
    "version": 3
   },
   "file_extension": ".py",
   "mimetype": "text/x-python",
   "name": "python",
   "nbconvert_exporter": "python",
   "pygments_lexer": "ipython3",
   "version": "3.8.12"
  }
 },
 "nbformat": 4,
 "nbformat_minor": 5
}

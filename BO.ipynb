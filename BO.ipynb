{
 "cells": [
  {
   "cell_type": "markdown",
   "id": "a80e7fb5",
   "metadata": {},
   "source": [
    "# Example maingopy BO with global acquisition function optimization\n",
    "\n",
    "From melon (https://git.rwth-aachen.de/avt-svt/public/MeLOn/-/tree/master/gaussian%20process), maingopy (https://git.rwth-aachen.de/avt-svt/public/maingo/-/tree/master/examples/05_GaussianProcess) and the GP paper (https://arxiv.org/pdf/2005.10902.pdf).\n",
    "\n",
    "Same problem statement as the ANN one. \n",
    "\n",
    "GP resources: http://gpss.cc/gpss20/\n",
    "\n",
    "GP bible: http://www.gaussianprocess.org/gpml/chapters/RW.pdf\n",
    "\n",
    "BO tutorial included in gpss labs."
   ]
  },
  {
   "cell_type": "code",
   "execution_count": 1,
   "id": "3ace0207",
   "metadata": {},
   "outputs": [],
   "source": [
    "import utils\n",
    "import tensorflow as tf\n",
    "import numpy as np\n",
    "import time\n",
    "import matplotlib.pyplot as plt\n",
    "from pyDOE import lhs\n",
    "import torch\n",
    "import gpytorch\n",
    "from sklearn.preprocessing import MinMaxScaler, StandardScaler\n",
    "import maingopy\n",
    "import random\n",
    "import warnings\n",
    "import os"
   ]
  },
  {
   "cell_type": "markdown",
   "id": "a90d932c",
   "metadata": {},
   "source": [
    "Implement peaks function"
   ]
  },
  {
   "cell_type": "code",
   "execution_count": 2,
   "id": "971eea61",
   "metadata": {},
   "outputs": [],
   "source": [
    "def peaks(X):\n",
    "    term1 = 3*np.multiply((1-X[:,0])**2, np.exp(-(X[:,0])**2-(X[:,1]+1)**2))\n",
    "    term2 = np.multiply(-10*(X[:,0]/5-X[:,0]**3-X[:,1]**5), np.exp(-X[:,0]**2-X[:,1]**2))\n",
    "    term3 = -np.exp(-(X[:,0]+1)**2-X[:,1]**2)/3\n",
    "    y = term1 + term2 + term3\n",
    "    return np.expand_dims(y, axis=-1)"
   ]
  },
  {
   "cell_type": "code",
   "execution_count": 3,
   "id": "6cd87cec",
   "metadata": {},
   "outputs": [
    {
     "data": {
      "text/plain": [
       "array([[-6.55112995],\n",
       "       [ 0.37537558]])"
      ]
     },
     "execution_count": 3,
     "metadata": {},
     "output_type": "execute_result"
    }
   ],
   "source": [
    "# test global minimum at f(0.228, -1.626)=-6.551\n",
    "peaks(np.array([[0.228, -1.626], [0.5,0.5]]))"
   ]
  },
  {
   "cell_type": "markdown",
   "id": "ce6c713a",
   "metadata": {},
   "source": [
    "## Training data generation\n",
    "\n",
    "Generate 10 samples with latin hypercube sampling, rescale to [-3, 3] and evaluate."
   ]
  },
  {
   "cell_type": "code",
   "execution_count": 4,
   "id": "7439d00b",
   "metadata": {},
   "outputs": [],
   "source": [
    "INIT_SAMPLES = 10\n",
    "lhd = lhs(2, samples=INIT_SAMPLES)\n",
    "Xpeaks = lhd*6-3\n",
    "ypeaks = peaks(Xpeaks)"
   ]
  },
  {
   "cell_type": "code",
   "execution_count": 5,
   "id": "c8249810",
   "metadata": {},
   "outputs": [],
   "source": [
    "# scale data and retain information to do ivnerse in the scaler object\n",
    "scaler = dict()\n",
    "\n",
    "# scale inputs to [0 , 1]\n",
    "scaler['input'] = MinMaxScaler(feature_range=(0,1)) \n",
    "Xscaled = scaler['input'].fit_transform(Xpeaks)\n",
    "\n",
    "# scale outputs to zero mean and unit variance\n",
    "scaler['output'] = StandardScaler()\n",
    "yscaled = scaler['output'].fit_transform(ypeaks.reshape(-1, 1)).squeeze()"
   ]
  },
  {
   "cell_type": "markdown",
   "id": "79dd4d16",
   "metadata": {},
   "source": [
    "## Load and set parameters"
   ]
  },
  {
   "cell_type": "code",
   "execution_count": 6,
   "id": "a1d3211b",
   "metadata": {},
   "outputs": [],
   "source": [
    "problem_name = 'peaks'\n",
    "# dimensionality of the data\n",
    "input_dim = 2\n",
    "output_dim = 1\n",
    "# scale Input to [-1,1] range\n",
    "scaleInput = True\n",
    "# normalize Output to z-score\n",
    "normalizeOutput = True"
   ]
  },
  {
   "cell_type": "markdown",
   "id": "7df241dc",
   "metadata": {},
   "source": [
    "## Set model parameters"
   ]
  },
  {
   "cell_type": "code",
   "execution_count": 7,
   "id": "fa061dd6",
   "metadata": {},
   "outputs": [],
   "source": [
    "# output filename\n",
    "output_folder = \"./data/GP/\"\n",
    "filename_out = output_folder + problem_name\n",
    "# training parameters\n",
    "MATERN = 5 # matern 5/2 covariance function\n",
    "\n",
    "#learning parameters\n",
    "N_TRAINING_ITER = 500\n",
    "LR = 0.08\n",
    "WD = 0.1"
   ]
  },
  {
   "cell_type": "markdown",
   "id": "9289ac5b",
   "metadata": {},
   "source": [
    "## Build GP"
   ]
  },
  {
   "cell_type": "code",
   "execution_count": 8,
   "id": "7a5c6881",
   "metadata": {},
   "outputs": [],
   "source": [
    "#Traning data to torch\n",
    "Xtrain = torch.from_numpy(Xscaled)\n",
    "ytrain = torch.from_numpy(yscaled)"
   ]
  },
  {
   "cell_type": "markdown",
   "id": "7fc89a9c",
   "metadata": {},
   "source": [
    "Model: exact GP with a marginal log likelihood, matern 5/2 covariance function and constant mean. "
   ]
  },
  {
   "cell_type": "code",
   "execution_count": 9,
   "id": "f26519ea",
   "metadata": {},
   "outputs": [],
   "source": [
    "class ExactGPModel(gpytorch.models.ExactGP): #definition of class\n",
    "    def __init__(self, train_x, train_y, likelihood, matern): # def creates objects needed for forward\n",
    "        super(ExactGPModel, self).__init__(train_x, train_y, likelihood)\n",
    "        #super() returns a proxy class which inherits gpytorch.models.ExactGP, its parent\n",
    "        #in short, we create a subclass by extending the parent\n",
    "        self.mean_module = gpytorch.means.ConstantMean() # constant mean\n",
    "        self.covar_module = gpytorch.kernels.ScaleKernel(\n",
    "            gpytorch.kernels.MaternKernel(nu=matern/2, ard_num_dims = 2)\n",
    "            )\n",
    "        #self.covar_module = gpytorch.kernels.MaternKernel(nu=matern/2, ard_num_dims = 2) #matern class\n",
    "        #we have flexible options for mean and covar module definition (i.e. with/without white noise, here or below\n",
    "        \n",
    "    def forward(self, x): #computes \n",
    "        mean_x = self.mean_module(x) #prior mean\n",
    "        covar_x = self.covar_module(x)# + self.white_noise_module(x) #prior covariance matrix from kernels\n",
    "        return gpytorch.distributions.MultivariateNormal(mean_x, covar_x) #multivar normal"
   ]
  },
  {
   "cell_type": "code",
   "execution_count": 10,
   "id": "b71cd817",
   "metadata": {},
   "outputs": [],
   "source": [
    "# initialize likelihood and model\n",
    "likelihood = gpytorch.likelihoods.GaussianLikelihood()\n",
    "model = ExactGPModel(Xtrain.float(), ytrain.squeeze().float(), likelihood, matern=MATERN)"
   ]
  },
  {
   "cell_type": "code",
   "execution_count": 11,
   "id": "e2f94459",
   "metadata": {},
   "outputs": [
    {
     "data": {
      "text/plain": [
       "tensor([ 0.4896, -0.1125, -0.0773,  0.4608,  1.3309, -0.0569,  0.6143, -0.0919,\n",
       "         0.1533, -2.7103])"
      ]
     },
     "execution_count": 11,
     "metadata": {},
     "output_type": "execute_result"
    }
   ],
   "source": [
    "ytrain.squeeze().float()"
   ]
  },
  {
   "cell_type": "markdown",
   "id": "009a904b",
   "metadata": {},
   "source": [
    "## Train with adam\n",
    "\n",
    "First-order gradient-based optimization of stochastic objective functions (https://arxiv.org/abs/1412.6980)"
   ]
  },
  {
   "cell_type": "code",
   "execution_count": 12,
   "id": "525af5ab",
   "metadata": {},
   "outputs": [],
   "source": [
    "def trainGP(model, likelihood, N_TRAINING_ITER, print_iter=True):\n",
    "    training_time = time.time()\n",
    "\n",
    "    # Find optimal model hyperparameters, put modle in training\n",
    "    model.train()\n",
    "    likelihood.train()\n",
    "\n",
    "    # Use the adam optimizer\n",
    "    optimizer = torch.optim.Adam(model.parameters(), lr=LR, weight_decay=WD)  # Includes GaussianLikelihood parameters\n",
    "\n",
    "    # \"Loss\" for GPs - the marginal log likelihood\n",
    "    mll = gpytorch.mlls.ExactMarginalLogLikelihood(likelihood, model)\n",
    "\n",
    "    for i in range(N_TRAINING_ITER):\n",
    "        # Zero gradients from previous iteration\n",
    "        optimizer.zero_grad()\n",
    "        # Output from model\n",
    "        output = model(*model.train_inputs)\n",
    "        # Calc loss and backprop gradients\n",
    "        loss = -mll(output, model.train_targets)\n",
    "        loss.backward()\n",
    "        if (i+1)%25 == 0 and print_iter:\n",
    "            print('Iter %d/%d \\n\\tLoss:\\t%s\\n\\tlengthscale:\\t%s\\n\\tnoise:\\t%s' % (\n",
    "                i + 1, N_TRAINING_ITER, loss,\n",
    "                model.covar_module.base_kernel.lengthscale,\n",
    "                model.likelihood.noise\n",
    "            ))\n",
    "        optimizer.step()\n",
    "\n",
    "    training_time = training_time - time.time()\n",
    "    \n",
    "    return [model, likelihood]"
   ]
  },
  {
   "cell_type": "code",
   "execution_count": 13,
   "id": "80d5cc23",
   "metadata": {},
   "outputs": [
    {
     "name": "stdout",
     "output_type": "stream",
     "text": [
      "Iter 25/500 \n",
      "\tLoss:\ttensor(1.5137, grad_fn=<NegBackward0>)\n",
      "\tlengthscale:\ttensor([[0.7894, 0.5741]], grad_fn=<SoftplusBackward0>)\n",
      "\tnoise:\ttensor([0.8424], grad_fn=<AddBackward0>)\n",
      "Iter 50/500 \n",
      "\tLoss:\ttensor(1.5080, grad_fn=<NegBackward0>)\n",
      "\tlengthscale:\ttensor([[0.7477, 0.5509]], grad_fn=<SoftplusBackward0>)\n",
      "\tnoise:\ttensor([0.8738], grad_fn=<AddBackward0>)\n",
      "Iter 75/500 \n",
      "\tLoss:\ttensor(1.5060, grad_fn=<NegBackward0>)\n",
      "\tlengthscale:\ttensor([[0.7510, 0.5411]], grad_fn=<SoftplusBackward0>)\n",
      "\tnoise:\ttensor([0.8824], grad_fn=<AddBackward0>)\n",
      "Iter 100/500 \n",
      "\tLoss:\ttensor(1.5059, grad_fn=<NegBackward0>)\n",
      "\tlengthscale:\ttensor([[0.7492, 0.5421]], grad_fn=<SoftplusBackward0>)\n",
      "\tnoise:\ttensor([0.8794], grad_fn=<AddBackward0>)\n",
      "Iter 125/500 \n",
      "\tLoss:\ttensor(1.5058, grad_fn=<NegBackward0>)\n",
      "\tlengthscale:\ttensor([[0.7489, 0.5419]], grad_fn=<SoftplusBackward0>)\n",
      "\tnoise:\ttensor([0.8794], grad_fn=<AddBackward0>)\n",
      "Iter 150/500 \n",
      "\tLoss:\ttensor(1.5059, grad_fn=<NegBackward0>)\n",
      "\tlengthscale:\ttensor([[0.7490, 0.5419]], grad_fn=<SoftplusBackward0>)\n",
      "\tnoise:\ttensor([0.8794], grad_fn=<AddBackward0>)\n",
      "Iter 175/500 \n",
      "\tLoss:\ttensor(1.5059, grad_fn=<NegBackward0>)\n",
      "\tlengthscale:\ttensor([[0.7490, 0.5418]], grad_fn=<SoftplusBackward0>)\n",
      "\tnoise:\ttensor([0.8795], grad_fn=<AddBackward0>)\n",
      "Iter 200/500 \n",
      "\tLoss:\ttensor(1.5059, grad_fn=<NegBackward0>)\n",
      "\tlengthscale:\ttensor([[0.7490, 0.5418]], grad_fn=<SoftplusBackward0>)\n",
      "\tnoise:\ttensor([0.8794], grad_fn=<AddBackward0>)\n",
      "Iter 225/500 \n",
      "\tLoss:\ttensor(1.5059, grad_fn=<NegBackward0>)\n",
      "\tlengthscale:\ttensor([[0.7490, 0.5418]], grad_fn=<SoftplusBackward0>)\n",
      "\tnoise:\ttensor([0.8794], grad_fn=<AddBackward0>)\n",
      "Iter 250/500 \n",
      "\tLoss:\ttensor(1.5059, grad_fn=<NegBackward0>)\n",
      "\tlengthscale:\ttensor([[0.7490, 0.5418]], grad_fn=<SoftplusBackward0>)\n",
      "\tnoise:\ttensor([0.8794], grad_fn=<AddBackward0>)\n",
      "Iter 275/500 \n",
      "\tLoss:\ttensor(1.5059, grad_fn=<NegBackward0>)\n",
      "\tlengthscale:\ttensor([[0.7490, 0.5418]], grad_fn=<SoftplusBackward0>)\n",
      "\tnoise:\ttensor([0.8794], grad_fn=<AddBackward0>)\n",
      "Iter 300/500 \n",
      "\tLoss:\ttensor(1.5059, grad_fn=<NegBackward0>)\n",
      "\tlengthscale:\ttensor([[0.7490, 0.5418]], grad_fn=<SoftplusBackward0>)\n",
      "\tnoise:\ttensor([0.8794], grad_fn=<AddBackward0>)\n",
      "Iter 325/500 \n",
      "\tLoss:\ttensor(1.5059, grad_fn=<NegBackward0>)\n",
      "\tlengthscale:\ttensor([[0.7490, 0.5418]], grad_fn=<SoftplusBackward0>)\n",
      "\tnoise:\ttensor([0.8794], grad_fn=<AddBackward0>)\n",
      "Iter 350/500 \n",
      "\tLoss:\ttensor(1.5059, grad_fn=<NegBackward0>)\n",
      "\tlengthscale:\ttensor([[0.7490, 0.5418]], grad_fn=<SoftplusBackward0>)\n",
      "\tnoise:\ttensor([0.8794], grad_fn=<AddBackward0>)\n",
      "Iter 375/500 \n",
      "\tLoss:\ttensor(1.5059, grad_fn=<NegBackward0>)\n",
      "\tlengthscale:\ttensor([[0.7490, 0.5418]], grad_fn=<SoftplusBackward0>)\n",
      "\tnoise:\ttensor([0.8794], grad_fn=<AddBackward0>)\n",
      "Iter 400/500 \n",
      "\tLoss:\ttensor(1.5059, grad_fn=<NegBackward0>)\n",
      "\tlengthscale:\ttensor([[0.7490, 0.5418]], grad_fn=<SoftplusBackward0>)\n",
      "\tnoise:\ttensor([0.8794], grad_fn=<AddBackward0>)\n",
      "Iter 425/500 \n",
      "\tLoss:\ttensor(1.5059, grad_fn=<NegBackward0>)\n",
      "\tlengthscale:\ttensor([[0.7490, 0.5418]], grad_fn=<SoftplusBackward0>)\n",
      "\tnoise:\ttensor([0.8794], grad_fn=<AddBackward0>)\n",
      "Iter 450/500 \n",
      "\tLoss:\ttensor(1.5059, grad_fn=<NegBackward0>)\n",
      "\tlengthscale:\ttensor([[0.7490, 0.5418]], grad_fn=<SoftplusBackward0>)\n",
      "\tnoise:\ttensor([0.8794], grad_fn=<AddBackward0>)\n",
      "Iter 475/500 \n",
      "\tLoss:\ttensor(1.5059, grad_fn=<NegBackward0>)\n",
      "\tlengthscale:\ttensor([[0.7490, 0.5418]], grad_fn=<SoftplusBackward0>)\n",
      "\tnoise:\ttensor([0.8794], grad_fn=<AddBackward0>)\n",
      "Iter 500/500 \n",
      "\tLoss:\ttensor(1.5059, grad_fn=<NegBackward0>)\n",
      "\tlengthscale:\ttensor([[0.7490, 0.5418]], grad_fn=<SoftplusBackward0>)\n",
      "\tnoise:\ttensor([0.8794], grad_fn=<AddBackward0>)\n"
     ]
    }
   ],
   "source": [
    "[model, likelihood] = trainGP(model, likelihood, N_TRAINING_ITER)"
   ]
  },
  {
   "cell_type": "markdown",
   "id": "16db380c",
   "metadata": {},
   "source": [
    "## Plot surrogate model"
   ]
  },
  {
   "cell_type": "code",
   "execution_count": 14,
   "id": "ea0a4c0c",
   "metadata": {
    "scrolled": true
   },
   "outputs": [],
   "source": [
    "def compute_grid(lb, ub, npoints = 200):\n",
    "    \"\"\"computes peaks output in a grid to plot it\"\"\"\n",
    "    vector1 = np.linspace(lb[0], ub[0], npoints)\n",
    "    vector2 = np.linspace(lb[1], ub[1], npoints)\n",
    "    test_grid_x1, test_grid_x2 = np.meshgrid(vector1, vector2)\n",
    "\n",
    "    # positions = np.vstack([test_grid_x1.ravel(), test_grid_x2.ravel()])\n",
    "    #np_test_x = (np.array(positions)).T\n",
    "    #convert meshgrid to all possible pairwise combinations and input into the prediction model\n",
    "    np_test_x = np.array([test_grid_x1, test_grid_x2]).T.reshape(-1,2)\n",
    "\n",
    "    X_plot = test_grid_x2.reshape(np.size(test_grid_x2))\n",
    "    Y_plot = test_grid_x1.reshape(np.size(test_grid_x1))\n",
    "    \n",
    "    return np.concatenate((np.expand_dims(X_plot, axis=-1), np.expand_dims(Y_plot, axis=-1)), axis=-1)"
   ]
  },
  {
   "cell_type": "code",
   "execution_count": 15,
   "id": "f5eeec0f",
   "metadata": {
    "scrolled": true
   },
   "outputs": [
    {
     "data": {
      "image/png": "[encoded data removed]",
      "text/plain": [
       "<Figure size 720x288 with 2 Axes>"
      ]
     },
     "metadata": {
      "needs_background": "light"
     },
     "output_type": "display_data"
    }
   ],
   "source": [
    "# Get into evaluation (predictive posterior) mode\n",
    "model.eval()\n",
    "likelihood.eval()\n",
    "\n",
    "GPplot = compute_grid(lb=[0,0], ub=[1, 1], npoints = 35)\n",
    "X_plot = torch.cat((torch.from_numpy(GPplot[:,0]).unsqueeze(-1), torch.from_numpy(GPplot[:,1]).unsqueeze(-1)), axis=-1)\n",
    "f_preds = model(X_plot.float()) #mean of the model\n",
    "y_preds = likelihood(model(X_plot.float())) # covariance of the model at X_plot\n",
    "\n",
    "fig = plt.figure(figsize=plt.figaspect(0.4))\n",
    "ax = fig.add_subplot(1, 2, 1, projection='3d')\n",
    "cmap = plt.get_cmap('coolwarm')\n",
    "ax.scatter(Xpeaks[:,0], Xpeaks[:,1], ypeaks, marker=\".\")\n",
    "ax.set_title('training data')\n",
    "\n",
    "ax = fig.add_subplot(1, 2, 2, projection='3d')\n",
    "ax.scatter(GPplot[:,0], GPplot[:,1], y_preds.mean.detach().squeeze().numpy(), marker=\".\")\n",
    "ax.set_title('learned function')\n",
    "plt.show()"
   ]
  },
  {
   "cell_type": "markdown",
   "id": "976a0b71",
   "metadata": {},
   "source": [
    "## Define optimization problem in maingopy\n",
    "\n",
    "In the same way as ANN. i.e.: define the GP and the acquisition function (in this case expected improvement (EI)) with melonpy, which gives the relaxations. Then pass on to maingopy which solves it globally with B&B in reduced space to find the next candidate and finally evaluate. Then start the loop again"
   ]
  },
  {
   "cell_type": "markdown",
   "id": "d9d7e1f9",
   "metadata": {},
   "source": [
    "Convert model to be readable by melonpy. Essentially: a dictionary containing the trained hyperparameters (lenghtscales and input scaler), the training inputs and the scaler information, which is min and max of training data, mean and std dev of training data to normalize.\n"
   ]
  },
  {
   "cell_type": "code",
   "execution_count": 16,
   "id": "6541e032",
   "metadata": {},
   "outputs": [],
   "source": [
    "gp_model = utils.generate_melon_gp_object(model, Xtrain, ytrain, MATERN, scaler)\n",
    "#alternatively: pass information as a json file.\n",
    "utils.save_model_to_json(r\"./data/GP\", \"testGP.json\", model, Xtrain, ytrain, MATERN, scaler)"
   ]
  },
  {
   "cell_type": "code",
   "execution_count": 17,
   "id": "1558f151",
   "metadata": {},
   "outputs": [],
   "source": [
    "class MaingoEI(maingopy.MAiNGOmodel):\n",
    "        \"\"\"maingopy.MAiNGOmodel child class which the acquisition function of expected improvement \n",
    "        for continuous variables.\n",
    "        \"\"\"\n",
    "        \n",
    "        def __init__(self, gp_data, kappa = 2):\n",
    "            super(MaingoEI, self).__init__()\n",
    "            self.lb = gp_data.inputScalerData.parameters.get(\n",
    "                    maingopy.melonpy.SCALER_PARAMETER.LOWER_BOUNDS\n",
    "                    ) # problem lower bounds\n",
    "            self.ub = gp_data.inputScalerData.parameters.get(\n",
    "                    maingopy.melonpy.SCALER_PARAMETER.UPPER_BOUNDS\n",
    "                    )\n",
    "            self.kappa = kappa # Set kappa for lower confidence bout acquisition function\n",
    "            self.gp_data = gp_data\n",
    "            \n",
    "        #####################################\n",
    "        # This function defines the optimization variables in the problem. In the above (MI)NLP, this corresponds to the x \\in X part.\n",
    "        # A variable typically needs bounds to define the host set X and can optionally have a variable type (VT_CONTINUOUS, VT_INTEGER, VT_BINARY)\n",
    "        # and a name (and a branching priority, which is an algorithmic parameter and usually not relevant).\n",
    "        # Note that the name is used *only* in the screen or log output of MAiNGO. In particular, it can not be used for modelling...\n",
    "        def get_variables(self):\n",
    "            variables = []\n",
    "            for i in range(0, len(self.ub)):\n",
    "                variables.append(maingopy.OptimizationVariable(\n",
    "                    maingopy.Bounds(self.lb[i],self.ub[i]),\n",
    "                    maingopy.VT_CONTINUOUS, str(i)))\n",
    "            return variables\n",
    "        \n",
    "        def get_initial_point(self):\n",
    "            \"\"\"\n",
    "            Sets a random initial point where local searches will be started \n",
    "            Returns\n",
    "            -------\n",
    "            list\n",
    "                DESCRIPTION.\n",
    "            \"\"\"\n",
    "            _init_point = []\n",
    "            for i in range(0, len(self.ub)):\n",
    "                n = random.random()\n",
    "                _init_point.append(n)\n",
    "            return _init_point\n",
    "        #####################################\n",
    "        # This function .\n",
    "        # Unfortunaley, right now we cannot use the variable objects defined in the get_variables function above\n",
    "        # directly for modeling (nor other variable types defined elsewhere) for technical reasons.\n",
    "        # Instead, the \"vars\" list that MAiNGO hands to this evaluate function contains the same number of elements as the\n",
    "        # list that we returned in the get_variables function, and it is only through their position in this list that we can\n",
    "        # map the variables used herein to the ones we defined in get_variables.\n",
    "        def evaluate(self,vars):\n",
    "            \"\"\"\n",
    "            internal function which essentially needs to implement the functions \n",
    "            f(x), h(x), and g(x) in the (MI)NLP. Please refer to the maingopy doc\n",
    "            for more info\n",
    "            \"\"\"\n",
    "            # gp data by passing values\n",
    "            gp = maingopy.melonpy.GaussianProcess() #Christians adaptation of JSON file inputs (manually input json info oben lines 58 to 63 directly from GPyTorch model object)\n",
    "            gp.load_model(self.gp_data)\n",
    "            # Evaluate the Gaussian process\n",
    "            # Input of the GP are the optimiation variables \"vars\", as defined in the \"get_variables\" function (cf. discussion above)\n",
    "            \n",
    "            mu = gp.calculate_prediction_reduced_space(vars)\n",
    "            variance = gp.calculate_variance_reduced_space(vars)\n",
    "            sigma = maingopy.sqrt(variance)\n",
    "            \n",
    "            # Prepare stuff for computing acquisition functions.\n",
    "            # read out the current minimum of the training data outputs and sets this as the target\n",
    "            fmin = gp.get_minimum_of_training_data_outputs();\n",
    "            # Set kappa for lower confidence bout acquisition function\n",
    "            #kappa = 2;\n",
    "            \n",
    "            # Actually compute f(x), g(x), and h(x). These need to be inserted in an EvaluationContainer that is returned from the function.\n",
    "            # Since we have an unconstrained problem here (no equality or inequality constraints),\n",
    "            # the vectors g and h have length 0. Since we want to maximize the aquisition function, we have f(x) = - <ourAcquisitionFunction>\n",
    "            # (note that the aquisition function tries to minimize the output of the GP).\n",
    "            result = maingopy.EvaluationContainer()\n",
    "            result.objective = -maingopy.af_ei(mu, sigma, fmin);    # Maximize expected improvement\n",
    "            #!result.ineq.push_back(-maingopy.af_lcb * ...)\n",
    "            \n",
    "            # Implemented alternatives:\n",
    "            # result.objective = -af_pi(mu, sigma, fmin);  # Maximize probability of improvement\n",
    "            # result.objective = af_lcb(mu, sigma, kappa); # Minimize lower confidence bound\n",
    "            # Optionally, we can define OutputVariables. These are things that we would like to have\n",
    "            # evaluated at the optimal solution but that do not form part of the (MI)NLP itself.\n",
    "            result.output = [ \n",
    "                maingopy.OutputVariable(\"mu \", mu),\n",
    "                maingopy.OutputVariable(\"sigma: \", sigma),\n",
    "                maingopy.OutputVariable(\"f min: \", fmin),\n",
    "                maingopy.OutputVariable(\"Expected improvement: \", \n",
    "                               maingopy.af_ei(mu, sigma, fmin)),\n",
    "                maingopy.OutputVariable(\"Probability of improvement: \", \n",
    "                               maingopy.af_pi(mu, sigma, fmin)),\n",
    "                maingopy.OutputVariable(\"Lower confidence bound: \", \n",
    "                               maingopy.af_lcb(mu, sigma, self.kappa)) ]\n",
    "            return result"
   ]
  },
  {
   "cell_type": "code",
   "execution_count": 18,
   "id": "06719300",
   "metadata": {},
   "outputs": [],
   "source": [
    "# To work with the problem, we first create an instance of the model.\n",
    "myModel = MaingoEI(gp_model)\n",
    "# We then create an instance of MAiNGO, the solver, and hand it the model.\n",
    "myMAiNGO = maingopy.MAiNGO(myModel)"
   ]
  },
  {
   "cell_type": "code",
   "execution_count": 19,
   "id": "afe8422d",
   "metadata": {},
   "outputs": [],
   "source": [
    "# We can have MAiNGO read a settings file:\n",
    "#fileName = \"\"\n",
    "#myMAiNGO.read_settings(fileName) # If fileName is empty, MAiNGO will attempt to open MAiNGOSettings.txt\n",
    "myMAiNGO.set_log_file_name(\".logs/my_log_file.log\")\n",
    "myMAiNGO.set_option(\"writeCsv\", True)\n",
    "myMAiNGO.set_iterations_csv_file_name(\".logs/iterations.csv\")\n",
    "myMAiNGO.set_solution_and_statistics_csv_file_name(\".logs/solution_and_statistics.csv\")"
   ]
  },
  {
   "cell_type": "code",
   "execution_count": 20,
   "id": "d185ca98",
   "metadata": {},
   "outputs": [],
   "source": [
    "myMAiNGO.write_model_to_file_in_other_language(writingLanguage=maingopy.LANG_GAMS, fileName=\"./logs/my_problem_file_MAiNGO.gms\", solverName=\"SCIP\", writeRelaxationOnly=False)"
   ]
  },
  {
   "cell_type": "markdown",
   "id": "995ad05b",
   "metadata": {},
   "source": [
    "### Solve for the first point:"
   ]
  },
  {
   "cell_type": "code",
   "execution_count": 21,
   "id": "c9f30d99",
   "metadata": {},
   "outputs": [
    {
     "name": "stdout",
     "output_type": "stream",
     "text": [
      "RETCODE.GLOBALLY_OPTIMAL\n"
     ]
    }
   ],
   "source": [
    "# Finally, we call the solve routine to solve the problem.\n",
    "maingoStatus = myMAiNGO.solve()\n",
    "print(maingoStatus)"
   ]
  },
  {
   "cell_type": "code",
   "execution_count": 22,
   "id": "554667f3",
   "metadata": {},
   "outputs": [
    {
     "name": "stdout",
     "output_type": "stream",
     "text": [
      "Global optimum of EI: f([2.427098252000887, -2.8722881909883875]) = -4.9005123362783065\n"
     ]
    }
   ],
   "source": [
    "print(\"Global optimum of EI: f([{}, {}]) = {}\".format(myMAiNGO.get_solution_point()[0], myMAiNGO.get_solution_point()[1], myMAiNGO.get_objective_value()))"
   ]
  },
  {
   "cell_type": "code",
   "execution_count": 23,
   "id": "a92737cd",
   "metadata": {
    "scrolled": true
   },
   "outputs": [
    {
     "name": "stdout",
     "output_type": "stream",
     "text": [
      "Function value: f([2.427098252000887, -2.8722881909883875]) = [[-0.00080496]]\n"
     ]
    }
   ],
   "source": [
    "print(\"Function value: f([{}, {}]) = {}\".format(myMAiNGO.get_solution_point()[0], myMAiNGO.get_solution_point()[1], peaks(np.array([myMAiNGO.get_solution_point()]))))"
   ]
  },
  {
   "cell_type": "markdown",
   "id": "afb6947c",
   "metadata": {},
   "source": [
    "## All of the above in a slick loop which converges towards the global optimum of the peaks function\n",
    "\n",
    "Check the anaconda console to see output of maingopy at each iteration!!!"
   ]
  },
  {
   "cell_type": "code",
   "execution_count": 24,
   "id": "6581540a",
   "metadata": {},
   "outputs": [
    {
     "name": "stdout",
     "output_type": "stream",
     "text": [
      "**************************\n",
      "Iteration 0\n",
      "Function value: f([[2.42697895], [-2.87228819]]) = [[-0.00080553]]\n",
      "**************************\n",
      "Iteration 1\n",
      "Function value: f([[0.52310306], [-2.20952206]]) = [[-2.91477409]]\n",
      "**************************\n",
      "Iteration 2\n",
      "Function value: f([[0.77659399], [-1.79633111]]) = [[-3.95008069]]\n",
      "**************************\n",
      "Iteration 3\n",
      "Function value: f([[-0.15892962], [-1.6137567]]) = [[-5.18915815]]\n",
      "**************************\n",
      "Iteration 4\n",
      "Function value: f([[0.11650022], [-1.61799246]]) = [[-6.42666645]]\n",
      "**************************\n",
      "Iteration 5\n",
      "Function value: f([[0.23584511], [-1.59483417]]) = [[-6.53776793]]\n",
      "**************************\n",
      "Iteration 6\n",
      "Function value: f([[0.22739899], [-1.62569087]]) = [[-6.55112606]]\n",
      "**************************\n",
      "Iteration 7\n",
      "Function value: f([[0.22721412], [-1.6276935]]) = [[-6.55106387]]\n",
      "**************************\n",
      "Iteration 8\n",
      "Function value: f([[0.24619213], [-1.63627614]]) = [[-6.54569819]]\n",
      "**************************\n",
      "Iteration 9\n",
      "Function value: f([[2.98973188], [2.87544456]]) = [[7.49818392e-05]]\n"
     ]
    }
   ],
   "source": [
    "#copy initial dataset\n",
    "Xbo = Xpeaks.copy()\n",
    "ybo = ypeaks.copy()\n",
    "#there is a bug(?) in gpytorch https://github.com/cornellius-gp/gpytorch/issues/1838\n",
    "# an annoying warning keeps printing, so I deactivated it for the moment\n",
    "\n",
    "with warnings.catch_warnings():\n",
    "    warnings.simplefilter(\"ignore\")\n",
    "\n",
    "    for i in range(10):\n",
    "        print('**************************')\n",
    "        print('Iteration {}'.format(i))\n",
    "\n",
    "        X = scaler['input'].fit_transform(Xbo) # scale inputs to [0 , 1]\n",
    "        y = scaler['output'].fit_transform(ybo.reshape(-1, 1)) # normalize target\n",
    "\n",
    "        model.set_train_data(torch.from_numpy(X).float(), torch.from_numpy(y).squeeze().float(), strict=False)  # set training data\n",
    "\n",
    "        [model, likelihood] = trainGP(model, likelihood, 150, False)  # retrain hyperparameters (re-fir model with the previous new point)\n",
    "\n",
    "        gp_model = utils.generate_melon_gp_object(model, model.train_inputs[0], model.train_targets.unsqueeze(-1), MATERN, scaler) # generate GP melon object\n",
    "        \n",
    "        #set CPU affinity to runa more stable optimization\n",
    "        os.system(\"taskset -p 0xff %d\" % os.getpid())\n",
    "        myModel = MaingoEI(gp_model)  # create expected improvement maingopy object\n",
    "        myMAiNGO = maingopy.MAiNGO(myModel) #instantiate\n",
    "        myMAiNGO.set_option('PRE_pureMultistart', 0) # only local gradient descent due to computational time\n",
    "        myMAiNGO.set_option('PRE_maxLocalSearches', 1000)  # maximmum or local gradient descent pre-searches\n",
    "        myMAiNGO.set_option('BAB_maxIterations', 12000)  # max number of iterations\n",
    "        myMAiNGO.set_option('maxTime', 120)  # maximum solver time (scales with number of points and variables!)\n",
    "        maingoStatus = myMAiNGO.solve() # get new candidate\n",
    "\n",
    "        candidate = np.array([myMAiNGO.get_solution_point()])\n",
    "        evaluation = peaks(candidate)\n",
    "\n",
    "        print(\"Function value: f([{}, {}]) = {}\".format(candidate[:,0], candidate[:,1], evaluation))\n",
    "\n",
    "        Xbo = np.concatenate((Xbo, candidate), axis = 0)\n",
    "        ybo = np.append(ybo, evaluation)\n",
    "    \n",
    "    "
   ]
  },
  {
   "cell_type": "code",
   "execution_count": 29,
   "id": "753763a8",
   "metadata": {},
   "outputs": [
    {
     "data": {
      "text/plain": [
       "<matplotlib.legend.Legend at 0x2059e95dd60>"
      ]
     },
     "execution_count": 29,
     "metadata": {},
     "output_type": "execute_result"
    },
    {
     "data": {
      "image/png": "[encoded data removed]",
      "text/plain": [
       "<Figure size 720x288 with 1 Axes>"
      ]
     },
     "metadata": {
      "needs_background": "light"
     },
     "output_type": "display_data"
    }
   ],
   "source": [
    "fig = plt.figure(figsize=plt.figaspect(0.4))\n",
    "ax = fig.add_subplot(1, 1, 1)\n",
    "samples = np.arange(1, np.size(ybo)-INIT_SAMPLES+1, 1)\n",
    "ax.plot(0, np.amin(ybo[:INIT_SAMPLES]), marker=\"o\", label=\"best value in dataset\")\n",
    "ax.plot(samples, ybo[INIT_SAMPLES:], marker=\"^\", label=\"candidate evaluation at iteration\")\n",
    "ax.hlines(-6.551, samples[0], samples[-1], label=\"global optimum\", ls = \"--\", color='black')\n",
    "ax.set_title('BO')\n",
    "ax.set_xlabel('algorithm iteration')\n",
    "ax.set_ylabel('function value')\n",
    "plt.legend()"
   ]
  },
  {
   "cell_type": "code",
   "execution_count": null,
   "id": "6e4cf89f",
   "metadata": {},
   "outputs": [],
   "source": []
  }
 ],
 "metadata": {
  "kernelspec": {
   "display_name": "Python 3 (ipykernel)",
   "language": "python",
   "name": "python3"
  },
  "language_info": {
   "codemirror_mode": {
    "name": "ipython",
    "version": 3
   },
   "file_extension": ".py",
   "mimetype": "text/x-python",
   "name": "python",
   "nbconvert_exporter": "python",
   "pygments_lexer": "ipython3",
   "version": "3.9.7"
  }
 },
 "nbformat": 4,
 "nbformat_minor": 5
}
